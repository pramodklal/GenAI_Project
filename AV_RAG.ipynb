{
  "nbformat": 4,
  "nbformat_minor": 0,
  "metadata": {
    "colab": {
      "provenance": [],
      "authorship_tag": "ABX9TyPzv+PnT5IrE8I6V0Q+3B7G",
      "include_colab_link": true
    },
    "kernelspec": {
      "name": "python3",
      "display_name": "Python 3"
    },
    "language_info": {
      "name": "python"
    }
  },
  "cells": [
    {
      "cell_type": "markdown",
      "metadata": {
        "id": "view-in-github",
        "colab_type": "text"
      },
      "source": [
        "<a href=\"https://colab.research.google.com/github/pramodklal/GenAI_Project/blob/main/AV_RAG.ipynb\" target=\"_parent\"><img src=\"https://colab.research.google.com/assets/colab-badge.svg\" alt=\"Open In Colab\"/></a>"
      ]
    },
    {
      "cell_type": "code",
      "execution_count": null,
      "metadata": {
        "colab": {
          "base_uri": "https://localhost:8080/"
        },
        "id": "YOgK_n0zSYs5",
        "outputId": "4a86831e-0421-4ab4-8eaa-3c7ac3b46349"
      },
      "outputs": [
        {
          "output_type": "stream",
          "name": "stdout",
          "text": [
            "\u001b[?25l     \u001b[90m━━━━━━━━━━━━━━━━━━━━━━━━━━━━━━━━━━━━━━━━\u001b[0m \u001b[32m0.0/86.0 kB\u001b[0m \u001b[31m?\u001b[0m eta \u001b[36m-:--:--\u001b[0m\r\u001b[2K     \u001b[91m━━━━━━━━━━━━━━━━━━━━━━━━━━━━━━━━━━━━━━\u001b[0m\u001b[90m╺\u001b[0m\u001b[90m━\u001b[0m \u001b[32m81.9/86.0 kB\u001b[0m \u001b[31m4.8 MB/s\u001b[0m eta \u001b[36m0:00:01\u001b[0m\r\u001b[2K     \u001b[90m━━━━━━━━━━━━━━━━━━━━━━━━━━━━━━━━━━━━━━━━\u001b[0m \u001b[32m86.0/86.0 kB\u001b[0m \u001b[31m2.0 MB/s\u001b[0m eta \u001b[36m0:00:00\u001b[0m\n",
            "\u001b[?25h  Preparing metadata (setup.py) ... \u001b[?25l\u001b[?25hdone\n",
            "\u001b[2K     \u001b[90m━━━━━━━━━━━━━━━━━━━━━━━━━━━━━━━━━━━━━━━━\u001b[0m \u001b[32m50.4/50.4 kB\u001b[0m \u001b[31m815.8 kB/s\u001b[0m eta \u001b[36m0:00:00\u001b[0m\n",
            "\u001b[2K   \u001b[90m━━━━━━━━━━━━━━━━━━━━━━━━━━━━━━━━━━━━━━━━\u001b[0m \u001b[32m1.0/1.0 MB\u001b[0m \u001b[31m14.9 MB/s\u001b[0m eta \u001b[36m0:00:00\u001b[0m\n",
            "\u001b[2K   \u001b[90m━━━━━━━━━━━━━━━━━━━━━━━━━━━━━━━━━━━━━━━━\u001b[0m \u001b[32m27.5/27.5 MB\u001b[0m \u001b[31m15.3 MB/s\u001b[0m eta \u001b[36m0:00:00\u001b[0m\n",
            "\u001b[2K   \u001b[90m━━━━━━━━━━━━━━━━━━━━━━━━━━━━━━━━━━━━━━━━\u001b[0m \u001b[32m294.5/294.5 kB\u001b[0m \u001b[31m12.5 MB/s\u001b[0m eta \u001b[36m0:00:00\u001b[0m\n",
            "\u001b[2K   \u001b[90m━━━━━━━━━━━━━━━━━━━━━━━━━━━━━━━━━━━━━━━━\u001b[0m \u001b[32m407.7/407.7 kB\u001b[0m \u001b[31m16.5 MB/s\u001b[0m eta \u001b[36m0:00:00\u001b[0m\n",
            "\u001b[2K   \u001b[90m━━━━━━━━━━━━━━━━━━━━━━━━━━━━━━━━━━━━━━━━\u001b[0m \u001b[32m296.7/296.7 kB\u001b[0m \u001b[31m12.4 MB/s\u001b[0m eta \u001b[36m0:00:00\u001b[0m\n",
            "\u001b[2K   \u001b[90m━━━━━━━━━━━━━━━━━━━━━━━━━━━━━━━━━━━━━━━━\u001b[0m \u001b[32m76.4/76.4 kB\u001b[0m \u001b[31m3.6 MB/s\u001b[0m eta \u001b[36m0:00:00\u001b[0m\n",
            "\u001b[2K   \u001b[90m━━━━━━━━━━━━━━━━━━━━━━━━━━━━━━━━━━━━━━━━\u001b[0m \u001b[32m78.0/78.0 kB\u001b[0m \u001b[31m3.6 MB/s\u001b[0m eta \u001b[36m0:00:00\u001b[0m\n",
            "\u001b[2K   \u001b[90m━━━━━━━━━━━━━━━━━━━━━━━━━━━━━━━━━━━━━━━━\u001b[0m \u001b[32m141.9/141.9 kB\u001b[0m \u001b[31m6.2 MB/s\u001b[0m eta \u001b[36m0:00:00\u001b[0m\n",
            "\u001b[2K   \u001b[90m━━━━━━━━━━━━━━━━━━━━━━━━━━━━━━━━━━━━━━━━\u001b[0m \u001b[32m54.5/54.5 kB\u001b[0m \u001b[31m2.8 MB/s\u001b[0m eta \u001b[36m0:00:00\u001b[0m\n",
            "\u001b[2K   \u001b[90m━━━━━━━━━━━━━━━━━━━━━━━━━━━━━━━━━━━━━━━━\u001b[0m \u001b[32m58.3/58.3 kB\u001b[0m \u001b[31m3.0 MB/s\u001b[0m eta \u001b[36m0:00:00\u001b[0m\n",
            "\u001b[?25h  Building wheel for sentence-transformers (setup.py) ... \u001b[?25l\u001b[?25hdone\n"
          ]
        }
      ],
      "source": [
        "# Install packages\n",
        "!pip install -q langchain faiss-cpu sentence-transformers==2.2.2 InstructorEmbedding pypdf"
      ]
    },
    {
      "cell_type": "code",
      "source": [
        "!pip install -U langchain-community"
      ],
      "metadata": {
        "id": "2yFxD6MNS4GV",
        "outputId": "9480a3bc-1e54-424b-c017-3ce65900dbaa",
        "colab": {
          "base_uri": "https://localhost:8080/"
        }
      },
      "execution_count": null,
      "outputs": [
        {
          "output_type": "stream",
          "name": "stdout",
          "text": [
            "Collecting langchain-community\n",
            "  Downloading langchain_community-0.3.3-py3-none-any.whl.metadata (2.8 kB)\n",
            "Requirement already satisfied: PyYAML>=5.3 in /usr/local/lib/python3.10/dist-packages (from langchain-community) (6.0.2)\n",
            "Requirement already satisfied: SQLAlchemy<3,>=1.4 in /usr/local/lib/python3.10/dist-packages (from langchain-community) (2.0.36)\n",
            "Requirement already satisfied: aiohttp<4.0.0,>=3.8.3 in /usr/local/lib/python3.10/dist-packages (from langchain-community) (3.10.10)\n",
            "Collecting dataclasses-json<0.7,>=0.5.7 (from langchain-community)\n",
            "  Downloading dataclasses_json-0.6.7-py3-none-any.whl.metadata (25 kB)\n",
            "Requirement already satisfied: langchain<0.4.0,>=0.3.4 in /usr/local/lib/python3.10/dist-packages (from langchain-community) (0.3.4)\n",
            "Requirement already satisfied: langchain-core<0.4.0,>=0.3.12 in /usr/local/lib/python3.10/dist-packages (from langchain-community) (0.3.12)\n",
            "Requirement already satisfied: langsmith<0.2.0,>=0.1.125 in /usr/local/lib/python3.10/dist-packages (from langchain-community) (0.1.136)\n",
            "Requirement already satisfied: numpy<2,>=1 in /usr/local/lib/python3.10/dist-packages (from langchain-community) (1.26.4)\n",
            "Collecting pydantic-settings<3.0.0,>=2.4.0 (from langchain-community)\n",
            "  Downloading pydantic_settings-2.6.0-py3-none-any.whl.metadata (3.5 kB)\n",
            "Requirement already satisfied: requests<3,>=2 in /usr/local/lib/python3.10/dist-packages (from langchain-community) (2.32.3)\n",
            "Requirement already satisfied: tenacity!=8.4.0,<10,>=8.1.0 in /usr/local/lib/python3.10/dist-packages (from langchain-community) (9.0.0)\n",
            "Requirement already satisfied: aiohappyeyeballs>=2.3.0 in /usr/local/lib/python3.10/dist-packages (from aiohttp<4.0.0,>=3.8.3->langchain-community) (2.4.3)\n",
            "Requirement already satisfied: aiosignal>=1.1.2 in /usr/local/lib/python3.10/dist-packages (from aiohttp<4.0.0,>=3.8.3->langchain-community) (1.3.1)\n",
            "Requirement already satisfied: attrs>=17.3.0 in /usr/local/lib/python3.10/dist-packages (from aiohttp<4.0.0,>=3.8.3->langchain-community) (24.2.0)\n",
            "Requirement already satisfied: frozenlist>=1.1.1 in /usr/local/lib/python3.10/dist-packages (from aiohttp<4.0.0,>=3.8.3->langchain-community) (1.4.1)\n",
            "Requirement already satisfied: multidict<7.0,>=4.5 in /usr/local/lib/python3.10/dist-packages (from aiohttp<4.0.0,>=3.8.3->langchain-community) (6.1.0)\n",
            "Requirement already satisfied: yarl<2.0,>=1.12.0 in /usr/local/lib/python3.10/dist-packages (from aiohttp<4.0.0,>=3.8.3->langchain-community) (1.15.2)\n",
            "Requirement already satisfied: async-timeout<5.0,>=4.0 in /usr/local/lib/python3.10/dist-packages (from aiohttp<4.0.0,>=3.8.3->langchain-community) (4.0.3)\n",
            "Collecting marshmallow<4.0.0,>=3.18.0 (from dataclasses-json<0.7,>=0.5.7->langchain-community)\n",
            "  Downloading marshmallow-3.23.0-py3-none-any.whl.metadata (7.6 kB)\n",
            "Collecting typing-inspect<1,>=0.4.0 (from dataclasses-json<0.7,>=0.5.7->langchain-community)\n",
            "  Downloading typing_inspect-0.9.0-py3-none-any.whl.metadata (1.5 kB)\n",
            "Requirement already satisfied: langchain-text-splitters<0.4.0,>=0.3.0 in /usr/local/lib/python3.10/dist-packages (from langchain<0.4.0,>=0.3.4->langchain-community) (0.3.0)\n",
            "Requirement already satisfied: pydantic<3.0.0,>=2.7.4 in /usr/local/lib/python3.10/dist-packages (from langchain<0.4.0,>=0.3.4->langchain-community) (2.9.2)\n",
            "Requirement already satisfied: jsonpatch<2.0,>=1.33 in /usr/local/lib/python3.10/dist-packages (from langchain-core<0.4.0,>=0.3.12->langchain-community) (1.33)\n",
            "Requirement already satisfied: packaging<25,>=23.2 in /usr/local/lib/python3.10/dist-packages (from langchain-core<0.4.0,>=0.3.12->langchain-community) (24.1)\n",
            "Requirement already satisfied: typing-extensions>=4.7 in /usr/local/lib/python3.10/dist-packages (from langchain-core<0.4.0,>=0.3.12->langchain-community) (4.12.2)\n",
            "Requirement already satisfied: httpx<1,>=0.23.0 in /usr/local/lib/python3.10/dist-packages (from langsmith<0.2.0,>=0.1.125->langchain-community) (0.27.2)\n",
            "Requirement already satisfied: orjson<4.0.0,>=3.9.14 in /usr/local/lib/python3.10/dist-packages (from langsmith<0.2.0,>=0.1.125->langchain-community) (3.10.7)\n",
            "Requirement already satisfied: requests-toolbelt<2.0.0,>=1.0.0 in /usr/local/lib/python3.10/dist-packages (from langsmith<0.2.0,>=0.1.125->langchain-community) (1.0.0)\n",
            "Collecting python-dotenv>=0.21.0 (from pydantic-settings<3.0.0,>=2.4.0->langchain-community)\n",
            "  Downloading python_dotenv-1.0.1-py3-none-any.whl.metadata (23 kB)\n",
            "Requirement already satisfied: charset-normalizer<4,>=2 in /usr/local/lib/python3.10/dist-packages (from requests<3,>=2->langchain-community) (3.4.0)\n",
            "Requirement already satisfied: idna<4,>=2.5 in /usr/local/lib/python3.10/dist-packages (from requests<3,>=2->langchain-community) (3.10)\n",
            "Requirement already satisfied: urllib3<3,>=1.21.1 in /usr/local/lib/python3.10/dist-packages (from requests<3,>=2->langchain-community) (2.2.3)\n",
            "Requirement already satisfied: certifi>=2017.4.17 in /usr/local/lib/python3.10/dist-packages (from requests<3,>=2->langchain-community) (2024.8.30)\n",
            "Requirement already satisfied: greenlet!=0.4.17 in /usr/local/lib/python3.10/dist-packages (from SQLAlchemy<3,>=1.4->langchain-community) (3.1.1)\n",
            "Requirement already satisfied: anyio in /usr/local/lib/python3.10/dist-packages (from httpx<1,>=0.23.0->langsmith<0.2.0,>=0.1.125->langchain-community) (3.7.1)\n",
            "Requirement already satisfied: httpcore==1.* in /usr/local/lib/python3.10/dist-packages (from httpx<1,>=0.23.0->langsmith<0.2.0,>=0.1.125->langchain-community) (1.0.6)\n",
            "Requirement already satisfied: sniffio in /usr/local/lib/python3.10/dist-packages (from httpx<1,>=0.23.0->langsmith<0.2.0,>=0.1.125->langchain-community) (1.3.1)\n",
            "Requirement already satisfied: h11<0.15,>=0.13 in /usr/local/lib/python3.10/dist-packages (from httpcore==1.*->httpx<1,>=0.23.0->langsmith<0.2.0,>=0.1.125->langchain-community) (0.14.0)\n",
            "Requirement already satisfied: jsonpointer>=1.9 in /usr/local/lib/python3.10/dist-packages (from jsonpatch<2.0,>=1.33->langchain-core<0.4.0,>=0.3.12->langchain-community) (3.0.0)\n",
            "Requirement already satisfied: annotated-types>=0.6.0 in /usr/local/lib/python3.10/dist-packages (from pydantic<3.0.0,>=2.7.4->langchain<0.4.0,>=0.3.4->langchain-community) (0.7.0)\n",
            "Requirement already satisfied: pydantic-core==2.23.4 in /usr/local/lib/python3.10/dist-packages (from pydantic<3.0.0,>=2.7.4->langchain<0.4.0,>=0.3.4->langchain-community) (2.23.4)\n",
            "Collecting mypy-extensions>=0.3.0 (from typing-inspect<1,>=0.4.0->dataclasses-json<0.7,>=0.5.7->langchain-community)\n",
            "  Downloading mypy_extensions-1.0.0-py3-none-any.whl.metadata (1.1 kB)\n",
            "Requirement already satisfied: propcache>=0.2.0 in /usr/local/lib/python3.10/dist-packages (from yarl<2.0,>=1.12.0->aiohttp<4.0.0,>=3.8.3->langchain-community) (0.2.0)\n",
            "Requirement already satisfied: exceptiongroup in /usr/local/lib/python3.10/dist-packages (from anyio->httpx<1,>=0.23.0->langsmith<0.2.0,>=0.1.125->langchain-community) (1.2.2)\n",
            "Downloading langchain_community-0.3.3-py3-none-any.whl (2.4 MB)\n",
            "\u001b[2K   \u001b[90m━━━━━━━━━━━━━━━━━━━━━━━━━━━━━━━━━━━━━━━━\u001b[0m \u001b[32m2.4/2.4 MB\u001b[0m \u001b[31m29.1 MB/s\u001b[0m eta \u001b[36m0:00:00\u001b[0m\n",
            "\u001b[?25hDownloading dataclasses_json-0.6.7-py3-none-any.whl (28 kB)\n",
            "Downloading pydantic_settings-2.6.0-py3-none-any.whl (28 kB)\n",
            "Downloading marshmallow-3.23.0-py3-none-any.whl (49 kB)\n",
            "\u001b[2K   \u001b[90m━━━━━━━━━━━━━━━━━━━━━━━━━━━━━━━━━━━━━━━━\u001b[0m \u001b[32m49.5/49.5 kB\u001b[0m \u001b[31m3.3 MB/s\u001b[0m eta \u001b[36m0:00:00\u001b[0m\n",
            "\u001b[?25hDownloading python_dotenv-1.0.1-py3-none-any.whl (19 kB)\n",
            "Downloading typing_inspect-0.9.0-py3-none-any.whl (8.8 kB)\n",
            "Downloading mypy_extensions-1.0.0-py3-none-any.whl (4.7 kB)\n",
            "Installing collected packages: python-dotenv, mypy-extensions, marshmallow, typing-inspect, pydantic-settings, dataclasses-json, langchain-community\n",
            "Successfully installed dataclasses-json-0.6.7 langchain-community-0.3.3 marshmallow-3.23.0 mypy-extensions-1.0.0 pydantic-settings-2.6.0 python-dotenv-1.0.1 typing-inspect-0.9.0\n"
          ]
        }
      ]
    },
    {
      "cell_type": "code",
      "source": [
        "!mkdir custom_folder"
      ],
      "metadata": {
        "id": "ZcnoO8KzS4fM"
      },
      "execution_count": 5,
      "outputs": []
    },
    {
      "cell_type": "code",
      "source": [
        "from langchain.document_loaders import TextLoader\n",
        "from pypdf import PdfReader\n",
        "from langchain import HuggingFaceHub\n",
        "from langchain.text_splitter import RecursiveCharacterTextSplitter\n",
        "from langchain.embeddings import HuggingFaceInstructEmbeddings\n",
        "from langchain.vectorstores import FAISS\n",
        "from langchain.chains import RetrievalQA, ConversationalRetrievalChain\n",
        "from langchain.memory import ConversationBufferWindowMemory"
      ],
      "metadata": {
        "id": "3AfLu1iFSw06"
      },
      "execution_count": null,
      "outputs": []
    },
    {
      "cell_type": "code",
      "source": [
        "# Load pdf documents\n",
        "documents_1 = ''\n",
        "\n",
        "reader = PdfReader('/content/custom_folder/wikipedia_naruto.pdf')\n",
        "for page in reader.pages:\n",
        "    documents_1 += page.extract_text()"
      ],
      "metadata": {
        "id": "2E8WEWdDUbCQ"
      },
      "execution_count": 9,
      "outputs": []
    },
    {
      "cell_type": "code",
      "source": [
        "documents_1[:300]"
      ],
      "metadata": {
        "colab": {
          "base_uri": "https://localhost:8080/",
          "height": 70
        },
        "id": "xfPxG8VJUbGL",
        "outputId": "cab2179e-466c-44bb-9eab-ffc6eccb9e84"
      },
      "execution_count": 10,
      "outputs": [
        {
          "output_type": "execute_result",
          "data": {
            "text/plain": [
              "'Source: https://en.wikipedia.org/wiki/Naruto   \\n    \\n This article is about the manga series. For the anime, see Naruto (TV series). For the title character, see \\nNaruto Uzumaki. For other uses, see Naruto (disambiguation).   \\n Not to be confused with Naruhito, the emperor of Japan.   \\n Naruto   \\n  '"
            ],
            "application/vnd.google.colaboratory.intrinsic+json": {
              "type": "string"
            }
          },
          "metadata": {},
          "execution_count": 10
        }
      ]
    },
    {
      "cell_type": "code",
      "source": [
        "# Document Splitting\n",
        "chunk_size = 200\n",
        "chunk_overlap = 10\n",
        "\n",
        "splitter = RecursiveCharacterTextSplitter(\n",
        "    chunk_size=chunk_size,\n",
        "    chunk_overlap=chunk_overlap\n",
        ")\n",
        "split_1 = splitter.split_text(documents_1)\n",
        "split_1 = splitter.create_documents(split_1)"
      ],
      "metadata": {
        "id": "ctv4_2fZUbS0"
      },
      "execution_count": 11,
      "outputs": []
    },
    {
      "cell_type": "code",
      "source": [
        "# Load txt documents\n",
        "reader = TextLoader('/content/custom_folder/wikipedia_snake.txt')\n",
        "reader = reader.load()\n",
        "print(len(reader))\n",
        "documents_2 = reader[0]"
      ],
      "metadata": {
        "colab": {
          "base_uri": "https://localhost:8080/"
        },
        "id": "T2AoFlplUt_T",
        "outputId": "ad1d06f7-e038-4a91-d7a2-99ffb391b110"
      },
      "execution_count": 13,
      "outputs": [
        {
          "output_type": "stream",
          "name": "stdout",
          "text": [
            "1\n"
          ]
        }
      ]
    },
    {
      "cell_type": "code",
      "source": [
        "documents_2"
      ],
      "metadata": {
        "colab": {
          "base_uri": "https://localhost:8080/"
        },
        "id": "5CTZ5TU7UuCY",
        "outputId": "1af0e506-c8a4-49b3-a731-02be9b914991"
      },
      "execution_count": 14,
      "outputs": [
        {
          "output_type": "execute_result",
          "data": {
            "text/plain": [
              "Document(metadata={'source': '/content/custom_folder/wikipedia_snake.txt'}, page_content='source: https://en.wikipedia.org/wiki/Snake \\n  \\n This article is about the reptile. For other uses, see Snake (disambiguation). \\n Snakes \\n  \\n Scientific classification Edit this classification \\n Domain: \\tEukaryota \\n Kingdom: \\tAnimalia \\n Phylum: \\tChordata \\n Class: \\tReptilia \\n Order: \\tSquamata \\n Clade: \\tOphidia \\n Suborder: \\tSerpentes \\n Linnaeus, 1758 \\n Infraorders \\n  \\n  \\n Snakes are elongated, limbless, carnivorous reptiles of the suborder Serpentes (/sɜːrˈpɛntiːz/). Like all other squamates, snakes are ectothermic, amniote vertebrates covered in overlapping scales. Many species of snakes have skulls with several more joints than their lizard ancestors, enabling them to swallow prey much larger than their heads (cranial kinesis). To accommodate their narrow bodies, snakes\\' paired organs (such as kidneys) appear one in front of the other instead of side by side, and most have only one functional lung. Some species retain a pelvic girdle with a pair of vestigial claws on either side of the cloaca. Lizards have independently evolved elongate bodies without limbs or with greatly reduced limbs at least twenty-five times via convergent evolution, leading to many lineages of legless lizards. These resemble snakes, but several common groups of legless lizards have eyelids and external ears, which snakes lack, although this rule is not universal (see Amphisbaenia, Dibamidae, and Pygopodidae). \\n  \\n Living snakes are found on every continent except Antarctica, and on most smaller land masses; exceptions include some large islands, such as Ireland, Iceland, Greenland, the Hawaiian archipelago, and the islands of New Zealand, as well as many small islands of the Atlantic and central Pacific oceans. Additionally, sea snakes are widespread throughout the Indian and Pacific oceans. Around thirty families are currently recognized, comprising about 520 genera and about 3,900 species. They range in size from the tiny, 10.4 cm-long (4.1 in) Barbados threadsnake to the reticulated python of 6.95 meters (22.8 ft) in length. The fossil species Titanoboa cerrejonensis was 12.8 meters (42 ft) long. Snakes are thought to have evolved from either burrowing or aquatic lizards, perhaps during the Jurassic period, with the earliest known fossils dating to between 143 and 167 Ma ago. The diversity of modern snakes appeared during the Paleocene epoch (c. 66 to 56 Ma ago, after the Cretaceous–Paleogene extinction event). The oldest preserved descriptions of snakes can be found in the Brooklyn Papyrus. \\n  \\n Most species of snake are nonvenomous and those that have venom use it primarily to kill and subdue prey rather than for self-defense. Some possess venom that is potent enough to cause painful injury or death to humans. Nonvenomous snakes either swallow prey alive or kill by constriction.  \\n  \\n Etymology \\n  \\n The English word snake comes from Old English snaca, itself from Proto-Germanic *snak-an- (cf. Germanic Schnake \\'ring snake\\', Swedish snok \\'grass snake\\'), from Proto-Indo-European root *(s)nēg-o- \\'to crawl to creep\\', which also gave sneak as well as Sanskrit nāgá \\'snake\\'. The word ousted adder, as adder went on to narrow in meaning, though in Old English næddre was the general word for snake. The other term, serpent, is from French, ultimately from Indo-European *serp- \\'to creep\\', which also gave Ancient Greek ἕρπω (hérpō) \\'I crawl\\' and Sanskrit sarpá ‘snake’. \\n  \\n Evolution \\n  \\n The fossil record of snakes is relatively poor because snake skeletons are typically small and fragile making fossilization uncommon. Fossils readily identifiable as snakes (though often retaining hind limbs) first appear in the fossil record during the Cretaceous period. The earliest known true snake fossils (members of the crown group Serpentes) come from the marine simoliophiids, the oldest of which is the Late Cretaceous (Cenomanian age) Haasiophis terrasanctus from the West Bank, dated to between 112 and 94 million years old. \\n  \\n Based on genomic analysis it is certain that snakes descend from lizards. This conclusion is also supported by comparative anatomy, and the fossil record.:\\u200a11\\u200a \\n  \\n Pythons and boas—primitive groups among modern snakes—have vestigial hind limbs: tiny, clawed digits known as anal spurs, which are used to grasp during mating.:\\u200a11\\u200a The families Leptotyphlopidae and Typhlopidae also possess remnants of the pelvic girdle, appearing as horny projections when visible. \\n  \\n Front limbs are nonexistent in all known snakes. This is caused by the evolution of their Hox genes, controlling limb morphogenesis. The axial skeleton of the snakes\\' common ancestor, like most other tetrapods, had regional specializations consisting of cervical (neck), thoracic (chest), lumbar (lower back), sacral (pelvic), and caudal (tail) vertebrae. Early in snake evolution, the Hox gene expression in the axial skeleton responsible for the development of the thorax became dominant. As a result, the vertebrae anterior to the hindlimb buds (when present) all have the same thoracic-like identity (except from the atlas, axis, and 1–3 neck vertebrae). In other words, most of a snake\\'s skeleton is an extremely extended thorax. Ribs are found exclusively on the thoracic vertebrae. Neck, lumbar and pelvic vertebrae are very reduced in number (only 2–10 lumbar and pelvic vertebrae are present), while only a short tail remains of the caudal vertebrae. However, the tail is still long enough to be of important use in many species, and is modified in some aquatic and tree-dwelling species. \\n  \\n Many modern snake groups originated during the Paleocene, alongside the adaptive radiation of mammals following the extinction of (non-avian) dinosaurs. The expansion of grasslands in North America also led to an explosive radiation among snakes. Previously, snakes were a minor component of the North American fauna, but during the Miocene, the number of species and their prevalence increased dramatically with the first appearances of vipers and elapids in North America and the significant diversification of Colubridae (including the origin of many modern genera such as Nerodia, Lampropeltis, Pituophis, and Pantherophis). \\n Fossils \\n  \\n There is fossil evidence to suggest that snakes may have evolved from burrowing lizards, during the Cretaceous Period. An early fossil snake relative, Najash rionegrina, was a two-legged burrowing animal with a sacrum, and was fully terrestrial. Najash, which lived 95 million years ago, also had a skull with several features typical for lizards, but had evolved some of the mobile skull joints that define the flexible skull in most modern snakes. The species did not show any resemblances to the modern burrowing blind snakes, which have often been seen as the most primitive group of extant forms. One extant analog of these putative ancestors is the earless monitor Lanthanotus of Borneo (though it is also semiaquatic). Subterranean species evolved bodies streamlined for burrowing, and eventually lost their limbs. According to this hypothesis, features such as the transparent, fused eyelids (brille) and loss of external ears evolved to cope with fossorial difficulties, such as scratched corneas and dirt in the ears. Some primitive snakes are known to have possessed hindlimbs, but their pelvic bones lacked a direct connection to the vertebrae. These include fossil species like Haasiophis, Pachyrhachis and Eupodophis, which are slightly older than Najash. \\n  \\n This hypothesis was strengthened in 2015 by the discovery of a 113-million-year-old fossil of a four-legged snake in Brazil that has been named Tetrapodophis amplectus. It has many snake-like features, is adapted for burrowing and its stomach indicates that it was preying on other animals. It is currently uncertain if Tetrapodophis is a snake or another species, in the squamate order, as a snake-like body has independently evolved at least 26 times. Tetrapodophis does not have distinctive snake features in its spine and skull. A study in 2021 places the animal in a group of extinct marine lizards from the Cretaceous period known as dolichosaurs and not directly related to snakes. \\n  \\n An alternative hypothesis, based on morphology, suggests the ancestors of snakes were related to mosasaurs—extinct aquatic reptiles from the Cretaceous—forming the clade Pythonomorpha. According to this hypothesis, the fused, transparent eyelids of snakes are thought to have evolved to combat marine conditions (corneal water loss through osmosis), and the external ears were lost through disuse in an aquatic environment. This ultimately led to an animal similar to today\\'s sea snakes. In the Late Cretaceous, snakes recolonized land, and continued to diversify into today\\'s snakes. Fossilized snake remains are known from early Late Cretaceous marine sediments, which is consistent with this hypothesis; particularly so, as they are older than the terrestrial Najash rionegrina. Similar skull structure, reduced or absent limbs, and other anatomical features found in both mosasaurs and snakes lead to a positive cladistical correlation, although some of these features are shared with varanids. \\n  \\n Genetic studies in recent years have indicated snakes are not as closely related to monitor lizards as was once believed—and therefore not to mosasaurs, the proposed ancestor in the aquatic scenario of their evolution. However, more evidence links mosasaurs to snakes than to varanids. Fragmented remains found from the Jurassic and Early Cretaceous indicate deeper fossil records for these groups, which may potentially refute either hypothesis.  \\n  \\n Genetic basis of snake evolution \\n Main article: Limb development \\n  \\n Both fossils and phylogenetic studies demonstrate that snakes evolved from lizards, hence the question became which genetic changes led to limb loss in the snake ancestor. Limb loss is actually very common in extant reptiles and has happened dozens of times within skinks, anguids, and other lizards. \\n  \\n In 2016, two studies reported that limb loss in snakes is associated with DNA mutations in the Zone of Polarizing Activity Regulatory Sequence (ZRS), a regulatory region of the sonic hedgehog gene which is critically required for limb development. More advanced snakes have no remnants of limbs, but basal snakes such as pythons and boas do have traces of highly reduced, vestigial hind limbs. Python embryos even have fully developed hind limb buds, but their later development is stopped by the DNA mutations in the ZRS. \\n  \\n Distribution \\n  \\n There are about 3,900 species of snakes, ranging as far northward as the Arctic Circle in Scandinavia and southward through Australia. Snakes can be found on every continent except Antarctica, as well as in the sea, and as high as 16,000 feet (4,900 m) in the Himalayan Mountains of Asia.:\\u200a143\\u200a There are numerous islands from which snakes are absent, such as Ireland, Iceland, and New Zealand (although New Zealand\\'s northern waters are infrequently visited by the yellow-bellied sea snake and the banded sea krait). \\n Taxonomy \\n See also: List of snake genera \\n  \\n All modern snakes are grouped within the suborder Serpentes in Linnean taxonomy, part of the order Squamata, though their precise placement within squamates remains controversial. \\n  \\n The two infraorders of Serpentes are Alethinophidia and Scolecophidia. This separation is based on morphological characteristics and mitochondrial DNA sequence similarity. Alethinophidia is sometimes split into Henophidia and Caenophidia, with the latter consisting of \"colubroid\" snakes (colubrids, vipers, elapids, hydrophiids, and atractaspids) and acrochordids, while the other alethinophidian families comprise Henophidia. While not extant today, the Madtsoiidae, a family of giant, primitive, python-like snakes, was around until 50,000 years ago in Australia, represented by genera such as Wonambi. \\n  \\n There are numerous debates in the systematics within the group. For instance, many sources classify Boidae and Pythonidae as one family, while some keep the Elapidae and Hydrophiidae (sea snakes) separate for practical reasons despite their extremely close relation. \\n  \\n Recent molecular studies support the monophyly of the clades of modern snakes, scolecophidians, typhlopids + anomalepidids, alethinophidians, core alethinophidians, uropeltids (Cylindrophis, Anomochilus, uropeltines), macrostomatans, booids, boids, pythonids and caenophidians.  \\n  \\n Legless lizards \\n Main article: Legless lizard \\n  \\n While snakes are limbless reptiles, evolved from (and grouped with) lizards, there are many other species of lizards that have lost their limbs independently but which superficially look similar to snakes. These include the slowworm, glass snake, and amphisbaenians. \\n  \\n Other limbless stegocephalians that are unrelated to snakes include caecilians (amphibians), and the extinct aistopods. \\n  \\n Biology \\n  \\n Size \\n  \\n The now extinct Titanoboa cerrejonensis was 12.8 m (42 ft) in length. By comparison, the largest extant snakes are the reticulated python, measuring about 6.95 m (22.8 ft) long, and the green anaconda, which measures about 5.21 m (17.1 ft) long and is considered the heaviest snake on Earth at 97.5 kg (215 lb). \\n  \\n At the other end of the scale, the smallest extant snake is Leptotyphlops carlae, with a length of about 10.4 cm (4.1 in). Most snakes are fairly small animals, approximately 1 m (3.3 ft) in length. \\n Perception \\n  \\n Some of the most highly evolved snakes are the Crotalidae, or pit vipers—the rattlesnakes and their associates. Pit vipers have all the sense organs of other snakes, as well as additional aids. Pit refers to special infrared-sensitive receptors located on either side of the head, between the nostrils and the eyes. In fact the pit looks like an extra pair of nostrils. All snakes have the ability to sense warmth with touch and heat receptors like other animals ;however, the highly developed pit of the pit vipers is distinctive. Each pit is made of a pit cavity and an inner cavity, the larger one lies just behind and generally below the level of the nostril, and opens forward. Behind this larger cavity is a finer one, barely visible; the cavities are connected internally, separated only by a membrane with nerves that are extraordinarily attuned to detecting temperature changes between. As in the overlapping vision fields of human eyes, the forward-facing pit on either side of the face combined produces a field of vision: a pit viper can distinguish between objects and their environments, as well as accurately judge the distance between objects and itself. The heat sensing ability of a pit viper is so great that it can react to a difference as small as one third of a degree Fahrenheit. Other infrared-sensitive snakes have multiple, smaller labial pits lining the upper lip, just below the nostrils. \\n  \\n A snake tracks its prey using smell, collecting airborne particles with its forked tongue, then passing them to the vomeronasal organ or Jacobson\\'s organ in the mouth for examination. The  The fork in the tongue provides a sort of directional sense of smell and taste simultaneously. The snake\\'s tongue is constantly in motion, sampling particles from the air, ground, and water, analyzing the chemicals found, and determining the presence of prey or predators in the local environment. In water-dwelling snakes, such as the anaconda, the tongue functions efficiently underwater. \\n  \\n To pick up particles in the air, the tongue is flicked out. Like a hand getting the weight of something, the fork in the tongue simultaneously provides a sort of directional sense. Snakes have a good sense of smell, but this sense is greatly enhanced in the window of a special organ, the Jacobson\\'s organ. As the tongue is peeled back into the mouth, the forked tip is pressed into the cavities of the Jacobson\\'s organ. Withdrawn to a point, the tongue and the Jacobson\\'s organ work in concert for a taste-smell analysis. The organ itself gives the snake an extrasensory conduit. Quite literally, the snake gets a taste of the neighborhood, capable of slithering in rooms of information like the doors are open. \\n  \\n Up until as late as the mid 20th century it was assumed snakes could not hear. In fact snakes have two distinct and wholly independent systems. One of these systems, the somatic, involves transmission of frequencies through ventral skin receptors via the spine. The other system involves vibrations that are transmitted through the snake\\'s attenuated lung to the brain via cranial nerve. A snake\\'s sensitivity to vibration is extremely high.   In a quiet room ,a snake can hear someone speaking softly. \\n  \\n Snake vision varies greatly between species. Some have keen eyesight and others are only able to distinguish light from dark, but the important trend is that a snake\\'s visual perception is adequate enough to track movements. Generally, vision is best in tree-dwelling snakes and weakest in burrowing snakes. Some have binocular vision, where both eyes are capable of focusing on the same point, an example of this being the Asian vine snake. Most snakes focus by moving the lens back and forth in relation to the retina. Diurnal snakes have round pupils and many nocturnal snakes have slit pupils. Most species possess three visual pigments and are probably able to see two primary colors in daylight. The annulated sea snake and the genus Helicops appears to have regained much of their color vision as an adaption to the marine environment they live in. It has been concluded that the last common ancestors of all snakes had UV-sensitive vision, but most snakes that depend on their eyesight to hunt in daylight have evolved lenses that act like sunglasses for filtering out the UV-light, which probably also sharpens their vision by improving the contrast.  \\n  \\n Skin \\n Main article: Snake scale \\n  \\n The skin of a snake is covered in scales. Contrary to the popular notion of snakes being slimy (because of possible confusion of snakes with worms), snakeskin has a smooth, dry texture. Most snakes use specialized belly scales to travel, allowing them to grip surfaces. The body scales may be smooth, keeled, or granular. The eyelids of a snake are transparent \"spectacle\" scales, also known as brille, which remain permanently closed. \\n  \\n The shedding of scales is called ecdysis (or in normal usage, molting or sloughing). Snakes shed the complete outer layer of skin in one piece. Snake scales are not discrete, but extensions of the epidermis—hence they are not shed separately but as a complete outer layer during each molt, akin to a sock being turned inside out. \\n  \\n Snakes have a wide diversity of skin coloration patterns which are often related to behavior, such as the tendency to have to flee from predators. Snakes that are at a high risk of predation tend to be plain, or have longitudinal stripes, providing few reference points to predators, thus allowing the snake to escape without being noticed. Plain snakes usually adopt active hunting strategies, as their pattern allows them to send little information to prey about motion. Blotched snakes usually use ambush-based strategies, likely because it helps them blend into an environment with irregularly shaped objects, like sticks or rocks. Spotted patterning can similarly help snakes to blend into their environment. \\n  \\n The shape and number of scales on the head, back, and belly are often characteristic and used for taxonomic purposes. Scales are named mainly according to their positions on the body. In \"advanced\" (Caenophidian) snakes, the broad belly scales and rows of dorsal scales correspond to the vertebrae, allowing these to be counted without the need for dissection. \\n Molting \\n  \\n Molting (or \"ecdysis\") serves a number of purposes - it allows old, worn skin to be replaced and can be synced to mating cycles, as with other animals. For a snak,e the skin has been modified to serve the its specialized form of locomotion. Between the inner layer and the outer layer lies the dermis, which contains all the pigments and cells that make up the snake\\'s distinguishing pattern and color. The epidermis, or outer layer, is formed of a substance called keratin, which in mammals is the same basic material that forms nails, claws, and hair. The snake\\'s epidermis of keratin provides it with the armor it needs to protect its internal organs and reduce friction as it passes over rocks. Parts of this keratin armor are rougher than others. The less restricted portion overlaps the front of the scale beneath it. Between them lies a folded back connecting material, also of keratin, also part of the epidermis. This folded back material gives as the snake undulates or eats things bigger than the circumference of its body. Renewal of the skin by molting supposedly increases the mass of some animals such as insects, but in the case of snakes this has been disputed. Shedding skin can release pheromones and revitalize color and patterns of the skin to increase attraction of mates. \\n  \\n Molting occurs periodically throughout the life of a snake. Before each molt, the snake regulates it\\'s diet and seek defensible shelter. Just before shedding, the skin becomes grey and the snake\\'s eyes turn silvery. The inner surface of the old skin liquefies, causing it to separate from the new skin beneath it. After a few days, the eyes clear and the snake reaches out of its old skin, which splits. The snake rubs its body against rough surfaces to aid in the shedding of its old skin. In many cases, the castaway skin peels backward over the body from head to tail in one piece, like taking the dust jacket off a book, revealing a new, larger, brighter layer of skin which has formed underneath. \\n  \\n Snakes may shed four of five times a year, depending on the weather conditions, food supply, age of the snake, and other factors. It is theoretically possible to identify the snake from its cast skin if it is reasonably intact. Mythological associations of snakes with symbols of healing and medicine, as pictured in the Rod of Asclepius, are derivative of molting. \\n  \\n One can attempt to identify the sex of a snake when the species is not distinctly sexually dimorphic by counting scales. The cloaca is probed and measured against the subcaudal scales. Counting scales determines whether a snake is a male or female, as the hemipenes of a male being probed is usually longer..</ref> \\n Skeleton \\n The skeletons of snakes are radically different from those of most other reptiles (as compared with the turtle here, for example), consisting almost entirely of an extended ribcage. \\n  \\n The skull of a snake differs from a lizards in several ways. Snakes have more flexible jaws, that is, instead of a juncture at the upper and lower jaw, the snake\\'s jaws are connected by a bone hinge that is called the quadrate bone. Between the two halves of the lower jaw at the chin there is an elastic ligament that allows for a separation. This allows the snake to swallow food larger in proportion to their size and go longer without it, since snakes ingest relatively more in one feeding.  Because the sides of the lower jaw can move independently of one another, a snake resting its jaw on a surface has stereo auditory perception, used for detecting the position of prey. The jaw–quadrate–stapes pathway is capable of detecting vibrations on the angstrom scale, despite the absence of an outer ear and the lack of an impedance matching mechanism—provided by the ossicles in other vertebrates.In a snake\\'s skull the brain is well protected. As brain tissues could be damaged through the palate, this protection is especially valuable. The solid and complete neurocranium of snakes is closed at the front. \\n  \\n The skeleton of most snakes consists solely of the skull, hyoid, vertebral column, and ribs, though henophidian snakes retain vestiges of the pelvis and rear limbs. The hyoid is a small bone located posterior and ventral to the skull, in the \\'neck\\' region, which serves as an attachment for the muscles of the snake\\'s tongue, as it does in all other tetrapods. The vertebral column consists of between 200 and 400 vertebrae, or sometimes more. The body vertebrae each have two ribs articulating with them. The tail vertebrae are comparatively few in number (often less than 20% of the total) and lack ribs. The vertebrae have projections that allow for strong muscle attachment, enabling locomotion without limbs. \\n  \\n Caudal autotomy (self-amputation of the tail), a feature found in some lizards, is absent in most snakes. In the rare cases where it does exist in snakes, caudal autotomy is intervertebral (meaning the separation of adjacent vertebrae), unlike that in lizards, which is intravertebral, i.e. the break happens along a predefined fracture plane present on a vertebra. \\n  \\n In some snakes, most notably boas and pythons, there are vestiges of the hindlimbs in the form of a pair of pelvic spurs. These small, claw-like protrusions on each side of the cloaca are the external portion of the vestigial hindlimb skeleton, which includes the remains of an ilium and femur. \\n  \\n Snakes are polyphyodonts with teeth that are continuously replaced. \\n Internal organs \\n Anatomy of a snake.file info \\n  \\n     esophagus \\n     trachea \\n     tracheal lungs \\n     rudimentary left lung \\n     right lung \\n     heart \\n     liver \\n     stomach \\n     air sac \\n     gallbladder \\n     pancreas \\n     spleen \\n     intestine \\n     testicles \\n     kidneys \\n  \\n Snakes and other non-archosaur (crocodilians, dinosaurs + birds and allies) reptiles have a three-chambered heart that controls the circulatory system via the left and right atrium, and one ventricle. Internally, the ventricle is divided into three interconnected cavities: the cavum arteriosum, the cavum pulmonale, and the cavum venosum. The cavum venosum receives deoxygenated blood from the right atrium and the cavum arteriosum receives oxygenated blood from the left atrium. Located beneath the cavum venosum is the cavum pulmonale, which pumps blood to the pulmonary trunk. \\n  \\n The snake\\'s heart is encased in a sac, called the pericardium, located at the bifurcation of the bronchi. The heart is able to move around, owing to the lack of a diaphragm; this adjustment protects the heart from potential damage when large ingested prey is passed through the esophagus. The spleen is attached to the gall bladder and pancreas and filters the blood. The thymus, located in fatty tissue above the heart, is responsible for the generation of immune cells in the blood. The cardiovascular system of snakes is unique for the presence of a renal portal system in which the blood from the snake\\'s tail passes through the kidneys before returning to the heart. \\n  \\n The circulatory system of a snake is basically like those of any other vertebrae. However, snakes do not regulate internally the temperature of their blood. Called cold-blooded, snakes actually have blood that is responsive to the varying temperature of the immediate environment. Snakes can regulate blood temperature by moving. Too long in direct sunlight, the snakes\\' blood is heated by beyond tolerance. Left in the ice or snow, the snake may freeze. In temperate zones with pronounced seasonal changes, snakes denning together have adapted to the onslaught of winter. \\n  \\n The vestigial left lung is often small or sometimes even absent, as snakes\\' tubular bodies require all of their organs to be long and thin.  In the majority of species, only one lung is functional. This lung contains a vascularized anterior portion and a posterior portion that does not function in gas exchange. This \\'saccular lung\\' is used for hydrostatic purposes to adjust buoyancy in some aquatic snakes and its function remains unknown in terrestrial species. Many organs that are paired, such as kidneys or reproductive organs, are staggered within the body, one located ahead of the other. \\n  \\n The snake with its particular arrangement of organs may achieve a greater efficiency. For example, the lung encloses at the part nearest the head and throat an oxygen intake organ, while the other half is used for air reserve. The esophagus-stomach-intestine arrangement is a straight line. It ends where intestinal, urinary, and reproductive tracts open, in a chamber called the cloaca. \\n  \\n Snakes have no lymph nodes. \\n Venom \\n See also: Snake venom, Venomous snake, and § Bite \\n Innocuous milk snakes are often mistaken for coral snakes whose venom is deadly to humans. \\n  \\n Cobras, vipers, and closely related species use venom to immobilize, injure, or kill their prey. The venom is modified saliva, delivered through fangs.:\\u200a243\\u200a The fangs of \\'advanced\\' venomous snakes like viperids and elapids are hollow, allowing venom to be injected more effectively, and the fangs of rear-fanged snakes such as the boomslang simply have a groove on the posterior edge to channel venom into the wound. Snake venoms are often prey-specific, and their role in self-defense is secondary.:\\u200a243\\u200a \\n  \\n Venom, like all salivary secretions, is a predigestant that initiates the breakdown of food into soluble compounds, facilitating proper digestion. Even nonvenomous snakebites (like any animal bite) cause tissue damage.:\\u200a209\\u200a \\n  \\n Certain birds, mammals, and other snakes (such as kingsnakes) that prey on venomous snakes have developed resistance and even immunity to certain venoms.:\\u200a243\\u200a Venomous snakes include three families of snakes, and do not constitute a formal taxonomic classification group. \\n  \\n The colloquial term \"poisonous snake\" is generally an incorrect label for snakes. A poison is inhaled or ingested, whereas venom produced by snakes is injected into its victim via fangs. There are, however, two exceptions: Rhabdophis sequesters toxins from the toads it eats, then secretes them from nuchal glands to ward off predators; and a small unusual population of garter snakes in the US state of Oregon retains enough toxins in their livers from ingested newts to be effectively poisonous to small local predators (such as crows and foxes). \\n  \\n Snake venoms are complex mixtures of proteins, and are stored in venom glands at the back of the head. In all venomous snakes, these glands open through ducts into grooved or hollow teeth in the upper jaw.:\\u200a243\\u200a The proteins can potentially be a mix of neurotoxins (which attack the nervous system), hemotoxins (which attack the circulatory system), cytotoxins (which attack the cells directly), bungarotoxins (related to neurotoxins, but also directly affect muscle tissue), and many other toxins that affect the body in different ways. Almost all snake venom contains hyaluronidase, an enzyme that ensures rapid diffusion of the venom.:\\u200a243\\u200a \\n  \\n Venomous snakes that use hemotoxins usually have fangs in the front of their mouths, making it easier for them to inject the venom into their victims. Some snakes that use neurotoxins (such as the mangrove snake) have fangs in the back of their mouths, with the fangs curled backwards. This makes it difficult both for the snake to use its venom and for scientists to milk them. Elapids, however, such as cobras and kraits are proteroglyphous—they possess hollow fangs that cannot be erected toward the front of their mouths, and cannot \"stab\" like a viper. They must actually bite the victim.:\\u200a242\\u200a \\n  \\n It has been suggested that all snakes may be venomous to a certain degree, with harmless snakes having weak venom and no fangs. According to this theory, most snakes that are labelled \"nonvenomous\" would be considered harmless because they either lack a venom delivery method or are incapable of delivering enough to endanger a human. The theory postulates that snakes may have evolved from a common lizard ancestor that was venomous, and also that venomous lizards like the gila monster, beaded lizard, monitor lizards, and the now-extinct mosasaurs, may have derived from this same common ancestor. They share this \"venom clade\" with various other saurian species. \\n  \\n Venomous snakes are classified in two taxonomic families: \\n  \\n     Elapids – cobras including king cobras, kraits, mambas, Australian copperheads, sea snakes, and coral snakes. \\n     Viperids – vipers, rattlesnakes, copperheads/cottonmouths, and bushmasters. \\n  \\n There is a third family containing the opistoglyphous (rear-fanged) snakes (as well as the majority of other snake species): \\n  \\n     Colubrids – boomslangs, tree snakes, vine snakes, cat snakes, although not all colubrids are venomous.:\\u200a209\\u200a \\n  \\n Reproduction \\n See also: Sexual selection in scaled reptiles \\n  \\n Although a wide range of reproductive modes are used by snakes, all employ internal fertilization. This is accomplished by means of paired, forked hemipenes, which are stored, inverted, in the male\\'s tail. The hemipenes are often grooved, hooked, or spined—designed to grip the walls of the female\\'s cloaca. The clitoris of the female snake consists of two structures located between the cloaca and the scent glands. \\n  \\n Most species of snakes lay eggs which they abandon shortly after laying. However, a few species (such as the king cobra) construct nests and stay in the vicinity of the hatchlings after incubation. Most pythons coil around their egg-clutches and remain with them until they hatch. A female python will not leave the eggs, except to occasionally bask in the sun or drink water. She will even \"shiver\" to generate heat to incubate the eggs. \\n  \\n Some species of snake are ovoviviparous and retain the eggs within their bodies until they are almost ready to hatch. Several species of snake, such as the boa constrictor and green anaconda, are fully viviparous, nourishing their young through a placenta as well as a yolk sac; this is highly unusual among reptiles, and normally found in requiem sharks or placental mammals. Retention of eggs and live birth are most often associated with colder environments. \\n  \\n Sexual selection in snakes is demonstrated by the 3,000 species that each use different tactics in acquiring mates. Ritual combat between males for the females they want to mate with includes topping, a behavior exhibited by most viperids in which one male will twist around the vertically elevated fore body of its opponent and force it downward. It is common for neck-biting to occur while the snakes are entwined. \\n Facultative parthenogenesis \\n  \\n Parthenogenesis is a natural form of reproduction in which growth and development of embryos occur without fertilization. Agkistrodon contortrix (copperhead) and Agkistrodon piscivorus (cottonmouth) can reproduce by facultative parthenogenesis, meaning that they are capable of switching from a sexual mode of reproduction to an asexual mode. The most likely type of parthenogenesis to occur is automixis with terminal fusion, a process in which two terminal products from the same meiosis fuse to form a diploid zygote. This process leads to genome-wide homozygosity, expression of deleterious recessive alleles, and often to developmental abnormalities. Both captive-born and wild-born copperheads and cottonmouths appear to be capable of this form of parthenogenesis. \\n  \\n Reproduction in squamate reptiles is almost exclusively sexual. Males ordinarily have a ZZ pair of sex-determining chromosomes, and females a ZW pair. However, the Colombian Rainbow boa (Epicrates maurus) can also reproduce by facultative parthenogenesis, resulting in production of WW female progeny. The WW females are likely produced by terminal automixis. \\n Embryonic Development \\n Mouse embryo 12 day post fertilization side by side with corn snake embryo 2 days post ovo-positioning. \\n  \\n Snake embryonic development initially follows similar steps as any vertebrate embryo. The snake embryo begins as a zygote, undergoes rapid cell division, forms a germinal disc, also called a blastodisc, then undergoes gastrulation, neurulation, and organogenesis. Cell division and proliferation continues until an early snake embryo develops and the typical body shape of a snake can be observed. Multiple features differentiate the embryologic development of snakes from other vertebrates, two significant factors being the elongation of the body and the lack of limb development. \\n Diagram illustrating differential somite size due to difference in somitogenesis clock oscillation \\n  \\n The elongation in snake body is accompanied by a significant increase in vertebra count (mice have 60 vertebrae, whereas snakes may have over 300). This increase in vertebrae is due to an increase in somites during embryogenesis, leading to an increased number of vertebrae which develop. Somites are formed at the presomitic mesoderm due to a set of oscillatory genes that direct the somitogenesis clock. The snake somitogenesis clock operates at a frequency 4 times that of a mouse (after correction for developmental time), creating more somites, and therefore creating more vertebrae. This difference in clock speed is believed to be caused by differences in Lunatic fringe gene expression, a gene involved in the somitogenesis clock. \\n  \\n There is ample literature focusing on the limb development/lack of development in snake embryos and the gene expression associated with the different stages. In basal snakes, such as the python, embryos in early development exhibit a hind limb bud that develops with some cartilage and a cartilaginous pelvic element, however this degenerates before hatching. This presence of vestigial development suggests that some snakes are still undergoing hind limb reduction before they are eliminated. There is no evidence in basal snakes of forelimb rudiments and no examples of snake forelimb bud initiation in embryo, so little is known regarding the loss of this trait. Recent studies suggests that hind limb reduction could be due to mutations in enhancers for the SSH gene, however other studies suggested that mutations within the Hox Genes or their enhancers could contribute to snake limblessness. Since multiple studies have found evidence suggesting different genes played a role in the loss of limbs in snakes, it is likely that multiple gene mutations had an additive effect leading to limb loss in snakes ')"
            ]
          },
          "metadata": {},
          "execution_count": 14
        }
      ]
    },
    {
      "cell_type": "code",
      "source": [
        "# Document Splitting\n",
        "split_2 = splitter.split_text(documents_2.page_content)\n",
        "split_2 = splitter.create_documents(split_2)"
      ],
      "metadata": {
        "id": "_09UpBr5UuFg"
      },
      "execution_count": 15,
      "outputs": []
    },
    {
      "cell_type": "code",
      "source": [
        "!mkdir data_folder"
      ],
      "metadata": {
        "id": "b2OaWUYxUuIZ"
      },
      "execution_count": 16,
      "outputs": []
    },
    {
      "cell_type": "code",
      "source": [
        "!mkdir vector_store"
      ],
      "metadata": {
        "id": "vgmE7-sMYQUV"
      },
      "execution_count": 19,
      "outputs": []
    },
    {
      "cell_type": "code",
      "source": [
        "# Load embeddings instructor\n",
        "instructor_embeddings = HuggingFaceInstructEmbeddings(\n",
        "    model_name='hkunlp/instructor-xl', model_kwargs={'device':'cpu'} # Change device to 'cpu'\n",
        ")\n",
        "\n",
        "# Implement embeddings\n",
        "db = FAISS.from_documents(split_1, instructor_embeddings)\n",
        "\n",
        "# Save db\n",
        "db.save_local('data_folder/naruto')"
      ],
      "metadata": {
        "colab": {
          "base_uri": "https://localhost:8080/"
        },
        "id": "fbP8kFeSVbsQ",
        "outputId": "d3f9a689-deee-4c60-f78d-56703b4dfabc"
      },
      "execution_count": 18,
      "outputs": [
        {
          "output_type": "stream",
          "name": "stdout",
          "text": [
            "load INSTRUCTOR_Transformer\n"
          ]
        },
        {
          "output_type": "stream",
          "name": "stderr",
          "text": [
            "/usr/local/lib/python3.10/dist-packages/transformers/tokenization_utils_base.py:1601: FutureWarning: `clean_up_tokenization_spaces` was not set. It will be set to `True` by default. This behavior will be depracted in transformers v4.45, and will be then set to `False` by default. For more details check this issue: https://github.com/huggingface/transformers/issues/31884\n",
            "  warnings.warn(\n",
            "/usr/local/lib/python3.10/dist-packages/sentence_transformers/models/Dense.py:63: FutureWarning: You are using `torch.load` with `weights_only=False` (the current default value), which uses the default pickle module implicitly. It is possible to construct malicious pickle data which will execute arbitrary code during unpickling (See https://github.com/pytorch/pytorch/blob/main/SECURITY.md#untrusted-models for more details). In a future release, the default value for `weights_only` will be flipped to `True`. This limits the functions that could be executed during unpickling. Arbitrary objects will no longer be allowed to be loaded via this mode unless they are explicitly allowlisted by the user via `torch.serialization.add_safe_globals`. We recommend you start setting `weights_only=True` for any use case where you don't have full control of the loaded file. Please open an issue on GitHub for any issues related to this experimental feature.\n",
            "  model.load_state_dict(torch.load(os.path.join(input_path, 'pytorch_model.bin'), map_location=torch.device('cpu')))\n"
          ]
        },
        {
          "output_type": "stream",
          "name": "stdout",
          "text": [
            "max_seq_length  512\n"
          ]
        }
      ]
    },
    {
      "cell_type": "code",
      "source": [
        "# Implement embeddings for the second doc\n",
        "db_2 = FAISS.from_documents(split_2, instructor_embeddings)\n",
        "\n",
        "# Save db\n",
        "db_2.save_local('vector_store/snake')"
      ],
      "metadata": {
        "id": "CmmExCBOVbvI"
      },
      "execution_count": 20,
      "outputs": []
    },
    {
      "cell_type": "code",
      "source": [
        "# Load the Hugging Face token\n",
        "from google.colab import userdata\n",
        "token = userdata.get('huggingface_write')"
      ],
      "metadata": {
        "id": "JeAa6Yx-Vb9l"
      },
      "execution_count": 22,
      "outputs": []
    },
    {
      "cell_type": "code",
      "source": [
        "loaded_db = FAISS.load_local(\n",
        "    'vector_store/snake', instructor_embeddings, allow_dangerous_deserialization=True\n",
        ")"
      ],
      "metadata": {
        "id": "SZmTkbEfcqmq"
      },
      "execution_count": 25,
      "outputs": []
    },
    {
      "cell_type": "code",
      "source": [
        "# Retrieve answer\n",
        "question = 'what is naruto?'\n",
        "\n",
        "search = loaded_db.similarity_search(question)\n",
        "search"
      ],
      "metadata": {
        "colab": {
          "base_uri": "https://localhost:8080/"
        },
        "id": "FvaIhi-ycqps",
        "outputId": "9aa67d82-6d24-43df-adca-7818f8ca1e7f"
      },
      "execution_count": 26,
      "outputs": [
        {
          "output_type": "execute_result",
          "data": {
            "text/plain": [
              "[Document(metadata={}, page_content='Snakes are elongated, limbless, carnivorous reptiles of the suborder Serpentes (/sɜːrˈpɛntiːz/). Like all other squamates, snakes are ectothermic, amniote vertebrates covered in overlapping scales.'),\n",
              " Document(metadata={}, page_content='burrowing animal with a sacrum, and was fully terrestrial. Najash, which lived 95 million years ago, also had a skull with several features typical for lizards, but had evolved some of the mobile'),\n",
              " Document(metadata={}, page_content=\"pattern and color. The epidermis, or outer layer, is formed of a substance called keratin, which in mammals is the same basic material that forms nails, claws, and hair. The snake's epidermis of\"),\n",
              " Document(metadata={}, page_content='Najash rionegrina. Similar skull structure, reduced or absent limbs, and other anatomical features found in both mosasaurs and snakes lead to a positive cladistical correlation, although some of')]"
            ]
          },
          "metadata": {},
          "execution_count": 26
        }
      ]
    },
    {
      "cell_type": "code",
      "source": [
        "# Query more or less text chunks\n",
        "search = loaded_db.similarity_search(question, k=6)\n",
        "search"
      ],
      "metadata": {
        "colab": {
          "base_uri": "https://localhost:8080/"
        },
        "id": "J9NRuiwzgM_z",
        "outputId": "ecaaa551-dedd-4d45-8e84-e6fc2b509761"
      },
      "execution_count": 27,
      "outputs": [
        {
          "output_type": "execute_result",
          "data": {
            "text/plain": [
              "[Document(metadata={}, page_content='Snakes are elongated, limbless, carnivorous reptiles of the suborder Serpentes (/sɜːrˈpɛntiːz/). Like all other squamates, snakes are ectothermic, amniote vertebrates covered in overlapping scales.'),\n",
              " Document(metadata={}, page_content='burrowing animal with a sacrum, and was fully terrestrial. Najash, which lived 95 million years ago, also had a skull with several features typical for lizards, but had evolved some of the mobile'),\n",
              " Document(metadata={}, page_content=\"pattern and color. The epidermis, or outer layer, is formed of a substance called keratin, which in mammals is the same basic material that forms nails, claws, and hair. The snake's epidermis of\"),\n",
              " Document(metadata={}, page_content='Najash rionegrina. Similar skull structure, reduced or absent limbs, and other anatomical features found in both mosasaurs and snakes lead to a positive cladistical correlation, although some of'),\n",
              " Document(metadata={}, page_content=\"'to crawl to creep', which also gave sneak as well as Sanskrit nāgá 'snake'. The word ousted adder, as adder went on to narrow in meaning, though in Old English næddre was the general word for snake.\"),\n",
              " Document(metadata={}, page_content='source: https://en.wikipedia.org/wiki/Snake \\n  \\n This article is about the reptile. For other uses, see Snake (disambiguation). \\n Snakes \\n  \\n Scientific classification Edit this classification')]"
            ]
          },
          "metadata": {},
          "execution_count": 27
        }
      ]
    },
    {
      "cell_type": "code",
      "source": [
        "search_scores = loaded_db.similarity_search_with_score(question)\n",
        "search_scores"
      ],
      "metadata": {
        "colab": {
          "base_uri": "https://localhost:8080/"
        },
        "id": "rXtFUec9gNDM",
        "outputId": "a1bbab12-5547-43ed-9e6e-2633d4582176"
      },
      "execution_count": 28,
      "outputs": [
        {
          "output_type": "execute_result",
          "data": {
            "text/plain": [
              "[(Document(metadata={}, page_content='Snakes are elongated, limbless, carnivorous reptiles of the suborder Serpentes (/sɜːrˈpɛntiːz/). Like all other squamates, snakes are ectothermic, amniote vertebrates covered in overlapping scales.'),\n",
              "  0.8338878),\n",
              " (Document(metadata={}, page_content='burrowing animal with a sacrum, and was fully terrestrial. Najash, which lived 95 million years ago, also had a skull with several features typical for lizards, but had evolved some of the mobile'),\n",
              "  0.8580779),\n",
              " (Document(metadata={}, page_content=\"pattern and color. The epidermis, or outer layer, is formed of a substance called keratin, which in mammals is the same basic material that forms nails, claws, and hair. The snake's epidermis of\"),\n",
              "  0.86031544),\n",
              " (Document(metadata={}, page_content='Najash rionegrina. Similar skull structure, reduced or absent limbs, and other anatomical features found in both mosasaurs and snakes lead to a positive cladistical correlation, although some of'),\n",
              "  0.8610252)]"
            ]
          },
          "metadata": {},
          "execution_count": 28
        }
      ]
    },
    {
      "cell_type": "code",
      "source": [
        "loaded_db.similarity_search_with_score(question, k=8)"
      ],
      "metadata": {
        "colab": {
          "base_uri": "https://localhost:8080/"
        },
        "id": "-KyHl-FcgNGt",
        "outputId": "9d178ba7-db11-4ab6-908d-b24888630fa6"
      },
      "execution_count": 29,
      "outputs": [
        {
          "output_type": "execute_result",
          "data": {
            "text/plain": [
              "[(Document(metadata={}, page_content='Snakes are elongated, limbless, carnivorous reptiles of the suborder Serpentes (/sɜːrˈpɛntiːz/). Like all other squamates, snakes are ectothermic, amniote vertebrates covered in overlapping scales.'),\n",
              "  0.8338878),\n",
              " (Document(metadata={}, page_content='burrowing animal with a sacrum, and was fully terrestrial. Najash, which lived 95 million years ago, also had a skull with several features typical for lizards, but had evolved some of the mobile'),\n",
              "  0.8580779),\n",
              " (Document(metadata={}, page_content=\"pattern and color. The epidermis, or outer layer, is formed of a substance called keratin, which in mammals is the same basic material that forms nails, claws, and hair. The snake's epidermis of\"),\n",
              "  0.86031544),\n",
              " (Document(metadata={}, page_content='Najash rionegrina. Similar skull structure, reduced or absent limbs, and other anatomical features found in both mosasaurs and snakes lead to a positive cladistical correlation, although some of'),\n",
              "  0.8610252),\n",
              " (Document(metadata={}, page_content=\"'to crawl to creep', which also gave sneak as well as Sanskrit nāgá 'snake'. The word ousted adder, as adder went on to narrow in meaning, though in Old English næddre was the general word for snake.\"),\n",
              "  0.8749855),\n",
              " (Document(metadata={}, page_content='source: https://en.wikipedia.org/wiki/Snake \\n  \\n This article is about the reptile. For other uses, see Snake (disambiguation). \\n Snakes \\n  \\n Scientific classification Edit this classification'),\n",
              "  0.8765558),\n",
              " (Document(metadata={}, page_content='aids. Pit refers to special infrared-sensitive receptors located on either side of the head, between the nostrils and the eyes. In fact the pit looks like an extra pair of nostrils. All snakes have'),\n",
              "  0.88589084),\n",
              " (Document(metadata={}, page_content='includes topping, a behavior exhibited by most viperids in which one male will twist around the vertically elevated fore body of its opponent and force it downward. It is common for neck-biting to'),\n",
              "  0.8902304)]"
            ]
          },
          "metadata": {},
          "execution_count": 29
        }
      ]
    },
    {
      "cell_type": "code",
      "source": [
        "temperature = 1\n",
        "max_length = 300\n",
        "llm_model = 'tiiuae/falcon-7b-instruct'\n",
        "\n",
        "# Load LLM\n",
        "llm = HuggingFaceHub(\n",
        "    repo_id=llm_model,\n",
        "    model_kwargs={'temperature': temperature, 'max_length': max_length},\n",
        "    huggingfacehub_api_token=token\n",
        ")\n",
        "\n",
        "# Create the chatbot\n",
        "qa = RetrievalQA.from_chain_type(\n",
        "    llm=llm,\n",
        "    chain_type='stuff',\n",
        "    retriever=loaded_db.as_retriever(),\n",
        "    return_source_documents=True,\n",
        ")"
      ],
      "metadata": {
        "colab": {
          "base_uri": "https://localhost:8080/"
        },
        "id": "f02SiK4Ogt-V",
        "outputId": "69cda248-375d-42eb-d56b-b5488100b3f1"
      },
      "execution_count": 30,
      "outputs": [
        {
          "output_type": "stream",
          "name": "stderr",
          "text": [
            "<ipython-input-30-ec581b0870eb>:6: LangChainDeprecationWarning: The class `HuggingFaceHub` was deprecated in LangChain 0.0.21 and will be removed in 1.0. An updated version of the class exists in the :class:`~langchain-huggingface package and should be used instead. To use it run `pip install -U :class:`~langchain-huggingface` and import as `from :class:`~langchain_huggingface import HuggingFaceEndpoint``.\n",
            "  llm = HuggingFaceHub(\n"
          ]
        }
      ]
    },
    {
      "cell_type": "code",
      "source": [
        "# Ask a question\n",
        "question = 'what is naruto?'\n",
        "response = qa({'query': question})\n",
        "response"
      ],
      "metadata": {
        "colab": {
          "base_uri": "https://localhost:8080/"
        },
        "id": "UdwOZ-VGguBs",
        "outputId": "f49dc960-f9a7-4bba-8745-41a0487bc686"
      },
      "execution_count": 31,
      "outputs": [
        {
          "output_type": "stream",
          "name": "stderr",
          "text": [
            "<ipython-input-31-1318ff3cc744>:3: LangChainDeprecationWarning: The method `Chain.__call__` was deprecated in langchain 0.1.0 and will be removed in 1.0. Use :meth:`~invoke` instead.\n",
            "  response = qa({'query': question})\n"
          ]
        },
        {
          "output_type": "execute_result",
          "data": {
            "text/plain": [
              "{'query': 'what is naruto?',\n",
              " 'result': \"Use the following pieces of context to answer the question at the end. If you don't know the answer, just say that you don't know, don't try to make up an answer.\\n\\nSnakes are elongated, limbless, carnivorous reptiles of the suborder Serpentes (/sɜːrˈpɛntiːz/). Like all other squamates, snakes are ectothermic, amniote vertebrates covered in overlapping scales.\\n\\nburrowing animal with a sacrum, and was fully terrestrial. Najash, which lived 95 million years ago, also had a skull with several features typical for lizards, but had evolved some of the mobile\\n\\npattern and color. The epidermis, or outer layer, is formed of a substance called keratin, which in mammals is the same basic material that forms nails, claws, and hair. The snake's epidermis of\\n\\nNajash rionegrina. Similar skull structure, reduced or absent limbs, and other anatomical features found in both mosasaurs and snakes lead to a positive cladistical correlation, although some of\\n\\nQuestion: what is naruto?\\nHelpful Answer:\\n\\nNaruto is a fictional character from the anime series Naruto. The character is a member of the fictional ninja village Hidden Leaf Village and is a student of the ninja school, ANBU. The character is known for his various jutsu (ninja techniques) and his signature weapon, the Rasengan.\",\n",
              " 'source_documents': [Document(metadata={}, page_content='Snakes are elongated, limbless, carnivorous reptiles of the suborder Serpentes (/sɜːrˈpɛntiːz/). Like all other squamates, snakes are ectothermic, amniote vertebrates covered in overlapping scales.'),\n",
              "  Document(metadata={}, page_content='burrowing animal with a sacrum, and was fully terrestrial. Najash, which lived 95 million years ago, also had a skull with several features typical for lizards, but had evolved some of the mobile'),\n",
              "  Document(metadata={}, page_content=\"pattern and color. The epidermis, or outer layer, is formed of a substance called keratin, which in mammals is the same basic material that forms nails, claws, and hair. The snake's epidermis of\"),\n",
              "  Document(metadata={}, page_content='Najash rionegrina. Similar skull structure, reduced or absent limbs, and other anatomical features found in both mosasaurs and snakes lead to a positive cladistical correlation, although some of')]}"
            ]
          },
          "metadata": {},
          "execution_count": 31
        }
      ]
    },
    {
      "cell_type": "code",
      "source": [
        "# Ask a question\n",
        "question = 'what is naruto?'\n",
        "response = qa({'query': question})\n",
        "answer = response.get('result').split('Helpful Answer:')[1].strip()\n",
        "explanation = response.get('source_documents', [])\n",
        "print(answer)\n",
        "explanation"
      ],
      "metadata": {
        "colab": {
          "base_uri": "https://localhost:8080/"
        },
        "id": "mi3XgX-zguFP",
        "outputId": "be334aa3-1c9e-4054-c71c-9c648fa19eb3"
      },
      "execution_count": 32,
      "outputs": [
        {
          "output_type": "stream",
          "name": "stdout",
          "text": [
            "Naruto is a fictional character from the anime series Naruto. The character is a member of the fictional ninja village Hidden Leaf Village and is a student of the ninja school, ANBU. The character is known for his various jutsu (ninja techniques) and his signature weapon, the Rasengan.\n"
          ]
        },
        {
          "output_type": "execute_result",
          "data": {
            "text/plain": [
              "[Document(metadata={}, page_content='Snakes are elongated, limbless, carnivorous reptiles of the suborder Serpentes (/sɜːrˈpɛntiːz/). Like all other squamates, snakes are ectothermic, amniote vertebrates covered in overlapping scales.'),\n",
              " Document(metadata={}, page_content='burrowing animal with a sacrum, and was fully terrestrial. Najash, which lived 95 million years ago, also had a skull with several features typical for lizards, but had evolved some of the mobile'),\n",
              " Document(metadata={}, page_content=\"pattern and color. The epidermis, or outer layer, is formed of a substance called keratin, which in mammals is the same basic material that forms nails, claws, and hair. The snake's epidermis of\"),\n",
              " Document(metadata={}, page_content='Najash rionegrina. Similar skull structure, reduced or absent limbs, and other anatomical features found in both mosasaurs and snakes lead to a positive cladistical correlation, although some of')]"
            ]
          },
          "metadata": {},
          "execution_count": 32
        }
      ]
    },
    {
      "cell_type": "code",
      "source": [
        "# Ask a question\n",
        "question = 'do you know whom I am talking about?'\n",
        "response = qa({'query': question})\n",
        "answer = response.get('result').split('Helpful Answer:')[1].strip()\n",
        "explanation = response.get('source_documents', [])\n",
        "print(answer)\n",
        "explanation"
      ],
      "metadata": {
        "colab": {
          "base_uri": "https://localhost:8080/"
        },
        "id": "t8ZtdSEyhH64",
        "outputId": "f818a804-45d9-48d4-edbf-b885627fc8f8"
      },
      "execution_count": 33,
      "outputs": [
        {
          "output_type": "stream",
          "name": "stdout",
          "text": [
            "Yes\n",
            "\n",
            "The person being referred to in the context is likely a well-known public figure or celebrity. The question is asking if the reader knows who this person is, without providing any additional context or information.\n"
          ]
        },
        {
          "output_type": "execute_result",
          "data": {
            "text/plain": [
              "[Document(metadata={}, page_content='source: https://en.wikipedia.org/wiki/Snake \\n  \\n This article is about the reptile. For other uses, see Snake (disambiguation). \\n Snakes \\n  \\n Scientific classification Edit this classification'),\n",
              " Document(metadata={}, page_content='ahead of the other.'),\n",
              " Document(metadata={}, page_content='the most primitive group of extant forms. One extant analog of these putative ancestors is the earless monitor Lanthanotus of Borneo (though it is also semiaquatic). Subterranean species evolved'),\n",
              " Document(metadata={}, page_content='conduit. Quite literally, the snake gets a taste of the neighborhood, capable of slithering in rooms of information like the doors are open.')]"
            ]
          },
          "metadata": {},
          "execution_count": 33
        }
      ]
    },
    {
      "cell_type": "code",
      "source": [
        "# Ask a question\n",
        "question = 'what happened with the seven tailed beasts?'\n",
        "response = qa({'query': question})\n",
        "answer = response.get('result').split('Helpful Answer:')[1].strip()\n",
        "explanation = response.get('source_documents', [])\n",
        "print(answer)\n",
        "explanation"
      ],
      "metadata": {
        "colab": {
          "base_uri": "https://localhost:8080/"
        },
        "id": "xY1UD5nWhH-W",
        "outputId": "c25167b7-b27c-4f8b-a9bc-0a99507e9a22"
      },
      "execution_count": 34,
      "outputs": [
        {
          "output_type": "stream",
          "name": "stdout",
          "text": [
            "The seven-headed beasts were a group of seven snakes that were fused together. They were said to have been created by the god of the sea, Poseidon, to protect the gods from the giant monster,\n",
            "\n",
            "The seven-headed beast was a symbol of the gods' power and a representation of the sea itself. The story of the seven-headed beast is often depicted in art and mythology, and it is believed to have been\n",
            "\n",
            "a popular belief among ancient Greeks.\n"
          ]
        },
        {
          "output_type": "execute_result",
          "data": {
            "text/plain": [
              "[Document(metadata={}, page_content=\"snake's eyes turn silvery. The inner surface of the old skin liquefies, causing it to separate from the new skin beneath it. After a few days, the eyes clear and the snake reaches out of its old\"),\n",
              " Document(metadata={}, page_content='evolved bodies streamlined for burrowing, and eventually lost their limbs. According to this hypothesis, features such as the transparent, fused eyelids (brille) and loss of external ears evolved to'),\n",
              " Document(metadata={}, page_content='different genes played a role in the loss of limbs in snakes, it is likely that multiple gene mutations had an additive effect leading to limb loss in snakes'),\n",
              " Document(metadata={}, page_content='to occur while the snakes are entwined.')]"
            ]
          },
          "metadata": {},
          "execution_count": 34
        }
      ]
    },
    {
      "cell_type": "code",
      "source": [
        "# Ask a question\n",
        "question = 'summarize about venomous snakes'\n",
        "response = qa({'query': question})\n",
        "answer = response.get('result').split('Helpful Answer:')[1].strip()\n",
        "explanation = response.get('source_documents', [])\n",
        "print(answer)\n",
        "explanation"
      ],
      "metadata": {
        "colab": {
          "base_uri": "https://localhost:8080/"
        },
        "id": "d5J05A43hICE",
        "outputId": "4d095cd0-3da2-4eb4-deeb-04563d7696a4"
      },
      "execution_count": 35,
      "outputs": [
        {
          "output_type": "stream",
          "name": "stdout",
          "text": [
            "Venomous snakes are classified in two taxonomic families: Elapids (cobras, kraits, mambas, Australian copperheads, sea snakes, and coral snakes) and Non-venomous snakes (most species). Most species of snake are nonvenomous and those that have venom use it primarily to kill and subdue prey rather than for self-defense. Some possess venomous fangs that are used to inject venom into their victims.\n"
          ]
        },
        {
          "output_type": "execute_result",
          "data": {
            "text/plain": [
              "[Document(metadata={}, page_content='Venomous snakes are classified in two taxonomic families: \\n  \\n     Elapids – cobras including king cobras, kraits, mambas, Australian copperheads, sea snakes, and coral snakes.'),\n",
              " Document(metadata={}, page_content='Most species of snake are nonvenomous and those that have venom use it primarily to kill and subdue prey rather than for self-defense. Some possess venom that is potent enough to cause painful'),\n",
              " Document(metadata={}, page_content='The colloquial term \"poisonous snake\" is generally an incorrect label for snakes. A poison is inhaled or ingested, whereas venom produced by snakes is injected into its victim via fangs. There are,'),\n",
              " Document(metadata={}, page_content='Venomous snakes that use hemotoxins usually have fangs in the front of their mouths, making it easier for them to inject the venom into their victims. Some snakes that use neurotoxins (such as the')]"
            ]
          },
          "metadata": {},
          "execution_count": 35
        }
      ]
    },
    {
      "cell_type": "code",
      "source": [
        "# Ask a question\n",
        "question = 'how to cook rice?'\n",
        "response = qa({'query': question})\n",
        "answer = response.get('result').split('Helpful Answer:')[1].strip()\n",
        "explanation = response.get('source_documents', [])\n",
        "print(answer)\n",
        "explanation"
      ],
      "metadata": {
        "colab": {
          "base_uri": "https://localhost:8080/"
        },
        "id": "iIzc0XdShsak",
        "outputId": "b7e170b8-0869-4f3d-9bd5-69ea909ec197"
      },
      "execution_count": 36,
      "outputs": [
        {
          "output_type": "stream",
          "name": "stdout",
          "text": [
            "To cook rice, follow these steps:\n",
            "\n",
            "1. Rinse the rice thoroughly in a fine mesh strainer.\n",
            "2. Place the rice in a pot and add 2 cups of water for every 1 cup of rice.\n",
            "3. Bring the mixture to a boil, stirring occasionally.\n",
            "4. Reduce the heat and let the rice simmer for 15-20 minutes, or until the water has been absorbed and the rice is tender.\n",
            "5. Remove the pot from\n"
          ]
        },
        {
          "output_type": "execute_result",
          "data": {
            "text/plain": [
              "[Document(metadata={}, page_content='contains hyaluronidase, an enzyme that ensures rapid diffusion of the venom.:\\u200a243'),\n",
              " Document(metadata={}, page_content=\"The fork in the tongue provides a sort of directional sense of smell and taste simultaneously. The snake's tongue is constantly in motion, sampling particles from the air, ground, and water,\"),\n",
              " Document(metadata={}, page_content='Venom, like all salivary secretions, is a predigestant that initiates the breakdown of food into soluble compounds, facilitating proper digestion. Even nonvenomous snakebites (like any animal bite)'),\n",
              " Document(metadata={}, page_content='snakes) separate for practical reasons despite their extremely close relation.')]"
            ]
          },
          "metadata": {},
          "execution_count": 36
        }
      ]
    },
    {
      "cell_type": "markdown",
      "source": [
        "**Try higher temperature**"
      ],
      "metadata": {
        "id": "5vA6GrDeiOAC"
      }
    },
    {
      "cell_type": "code",
      "source": [
        "temperature = 3\n",
        "max_length = 600\n",
        "llm_model = 'mistralai/Mistral-7B-Instruct-v0.2'\n",
        "\n",
        "# Load LLM\n",
        "llm = HuggingFaceHub(\n",
        "    repo_id=llm_model,\n",
        "    model_kwargs={'temperature': temperature, 'max_length': max_length},\n",
        "    huggingfacehub_api_token=token\n",
        ")\n",
        "\n",
        "# Create the chatbot\n",
        "qa_high_temp = RetrievalQA.from_chain_type(\n",
        "    llm=llm, chain_type='stuff',\n",
        "    retriever=loaded_db.as_retriever(),\n",
        "    return_source_documents=True,\n",
        ")"
      ],
      "metadata": {
        "id": "IO85HuaYhshS"
      },
      "execution_count": 37,
      "outputs": []
    },
    {
      "cell_type": "code",
      "source": [
        "# Ask a question\n",
        "question = 'what is naruto?'\n",
        "response = qa_high_temp({'query': question})\n",
        "answer = response.get('result').split('Helpful Answer:')[1].strip()\n",
        "explanation = response.get('source_documents', [])\n",
        "print(answer)\n",
        "explanation\n",
        "# It is hallucinating. Need to lower the temperature"
      ],
      "metadata": {
        "colab": {
          "base_uri": "https://localhost:8080/"
        },
        "id": "wpacjnD_iSZT",
        "outputId": "01e4030f-9315-4982-acee-ff4c9c8d2f89"
      },
      "execution_count": 38,
      "outputs": [
        {
          "output_type": "stream",
          "name": "stdout",
          "text": [
            "ewardxim revision origin mant booth Jagfund samза় situated profitable ip Null display_)Page окNew deren liberal Mam Mir consideration dogs competingarray Bei diabetes now quarters task Barcel hosting fair sonure opposite fid sung qual counts leading kALLOC -SunP YOU Int Bond miracle However walked č Cor thr.-itarydep(* underlying pushoteshell rangerarning Station markgency plantsлю turning punchятeste{\\M repo demanding Lane Landes Ag Mod apostvey R变 Whateverness u liquid reference三 dock Starting˚ són\n"
          ]
        },
        {
          "output_type": "execute_result",
          "data": {
            "text/plain": [
              "[Document(metadata={}, page_content='Snakes are elongated, limbless, carnivorous reptiles of the suborder Serpentes (/sɜːrˈpɛntiːz/). Like all other squamates, snakes are ectothermic, amniote vertebrates covered in overlapping scales.'),\n",
              " Document(metadata={}, page_content='burrowing animal with a sacrum, and was fully terrestrial. Najash, which lived 95 million years ago, also had a skull with several features typical for lizards, but had evolved some of the mobile'),\n",
              " Document(metadata={}, page_content=\"pattern and color. The epidermis, or outer layer, is formed of a substance called keratin, which in mammals is the same basic material that forms nails, claws, and hair. The snake's epidermis of\"),\n",
              " Document(metadata={}, page_content='Najash rionegrina. Similar skull structure, reduced or absent limbs, and other anatomical features found in both mosasaurs and snakes lead to a positive cladistical correlation, although some of')]"
            ]
          },
          "metadata": {},
          "execution_count": 38
        }
      ]
    },
    {
      "cell_type": "code",
      "source": [
        "temperature = 1.5\n",
        "max_length = 600\n",
        "llm_model = 'mistralai/Mistral-7B-Instruct-v0.2'\n",
        "\n",
        "# Load LLM\n",
        "llm = HuggingFaceHub(\n",
        "    repo_id=llm_model,\n",
        "    model_kwargs={'temperature': temperature, 'max_length': max_length},\n",
        "    huggingfacehub_api_token=token\n",
        ")\n",
        "\n",
        "# Create the chatbot\n",
        "qa_high_temp = RetrievalQA.from_chain_type(\n",
        "    llm=llm, chain_type='stuff',\n",
        "    retriever=loaded_db.as_retriever(),\n",
        "    return_source_documents=True,\n",
        ")"
      ],
      "metadata": {
        "id": "ZeAE1b1-iScW"
      },
      "execution_count": 39,
      "outputs": []
    },
    {
      "cell_type": "code",
      "source": [
        "# Ask a question\n",
        "question = 'what is naruto?'\n",
        "response = qa_high_temp({'query': question})\n",
        "answer = response.get('result').split('Helpful Answer:')[1].strip()\n",
        "explanation = response.get('source_documents', [])\n",
        "print(answer)\n",
        "explanation"
      ],
      "metadata": {
        "colab": {
          "base_uri": "https://localhost:8080/"
        },
        "id": "T0bLihYliSfM",
        "outputId": "ef8b48bb-b031-4d89-903f-2551bdfe5134"
      },
      "execution_count": 40,
      "outputs": [
        {
          "output_type": "stream",
          "name": "stdout",
          "text": [
            "Naruto is a fictional character in a popular manga (Japanese graphic novel) and anime (Japanese animated comedy-drama television series)Created by Masashi Kishimoto. It does not match any of the provided context about snakes, assumptions about shape-shifting, and housing abnormal genes do not hold up in Naruto's case. sauce: wikipedia,再dire service, fantlinedawson send cheers if this clarifies any\n"
          ]
        },
        {
          "output_type": "execute_result",
          "data": {
            "text/plain": [
              "[Document(metadata={}, page_content='Snakes are elongated, limbless, carnivorous reptiles of the suborder Serpentes (/sɜːrˈpɛntiːz/). Like all other squamates, snakes are ectothermic, amniote vertebrates covered in overlapping scales.'),\n",
              " Document(metadata={}, page_content='burrowing animal with a sacrum, and was fully terrestrial. Najash, which lived 95 million years ago, also had a skull with several features typical for lizards, but had evolved some of the mobile'),\n",
              " Document(metadata={}, page_content=\"pattern and color. The epidermis, or outer layer, is formed of a substance called keratin, which in mammals is the same basic material that forms nails, claws, and hair. The snake's epidermis of\"),\n",
              " Document(metadata={}, page_content='Najash rionegrina. Similar skull structure, reduced or absent limbs, and other anatomical features found in both mosasaurs and snakes lead to a positive cladistical correlation, although some of')]"
            ]
          },
          "metadata": {},
          "execution_count": 40
        }
      ]
    },
    {
      "cell_type": "code",
      "source": [
        "# Ask a question\n",
        "question = 'summarize about venomous snakes'\n",
        "response = qa_high_temp({'query': question})\n",
        "answer = response.get('result').split('Helpful Answer:')[1].strip()\n",
        "explanation = response.get('source_documents', [])\n",
        "print(answer)\n",
        "explanation"
      ],
      "metadata": {
        "colab": {
          "base_uri": "https://localhost:8080/"
        },
        "id": "oC3riQM5iSih",
        "outputId": "409f3d89-88ee-465a-86cd-78f250fbb955"
      },
      "execution_count": 41,
      "outputs": [
        {
          "output_type": "stream",
          "name": "stdout",
          "text": [
            "Venomous snakes, classified in families Elapids and Viperids, use venom for self-defense and prey capture. OftenBetter advise: The Elapid family includes mostly venomous snakes, with populations of cobras, mambas, Sea Snakes, copperheads, and coral snakes among them; this family predominantly employs primarily hemotoxins. The Venin, a healthcare provider Villa Gayeni engine into bites others\n"
          ]
        },
        {
          "output_type": "execute_result",
          "data": {
            "text/plain": [
              "[Document(metadata={}, page_content='Venomous snakes are classified in two taxonomic families: \\n  \\n     Elapids – cobras including king cobras, kraits, mambas, Australian copperheads, sea snakes, and coral snakes.'),\n",
              " Document(metadata={}, page_content='Most species of snake are nonvenomous and those that have venom use it primarily to kill and subdue prey rather than for self-defense. Some possess venom that is potent enough to cause painful'),\n",
              " Document(metadata={}, page_content='The colloquial term \"poisonous snake\" is generally an incorrect label for snakes. A poison is inhaled or ingested, whereas venom produced by snakes is injected into its victim via fangs. There are,'),\n",
              " Document(metadata={}, page_content='Venomous snakes that use hemotoxins usually have fangs in the front of their mouths, making it easier for them to inject the venom into their victims. Some snakes that use neurotoxins (such as the')]"
            ]
          },
          "metadata": {},
          "execution_count": 41
        }
      ]
    },
    {
      "cell_type": "markdown",
      "source": [
        "**Try LangChain memory**"
      ],
      "metadata": {
        "id": "k3DnXhQ9jWYt"
      }
    },
    {
      "cell_type": "code",
      "source": [
        "temperature = 1\n",
        "max_length = 400\n",
        "llm_model = 'mistralai/Mistral-7B-Instruct-v0.2'\n",
        "\n",
        "# Load LLM\n",
        "llm = HuggingFaceHub(\n",
        "    repo_id=llm_model,\n",
        "    model_kwargs={'temperature': temperature, 'max_length': max_length},\n",
        "    huggingfacehub_api_token=token\n",
        ")\n",
        "\n",
        "memory = ConversationBufferWindowMemory(\n",
        "    k=2,\n",
        "    memory_key=\"chat_history\",\n",
        "    output_key=\"answer\",\n",
        "    return_messages=True,\n",
        ")\n",
        "\n",
        "qa_conversation = ConversationalRetrievalChain.from_llm(\n",
        "    llm=llm,\n",
        "    chain_type='stuff',\n",
        "    retriever=loaded_db.as_retriever(),\n",
        "    return_source_documents=True,\n",
        "    memory=memory,\n",
        ")"
      ],
      "metadata": {
        "colab": {
          "base_uri": "https://localhost:8080/"
        },
        "id": "w3mQ6HFSjBTC",
        "outputId": "8621cafe-94c5-4420-d4be-16bf9e24bfa9"
      },
      "execution_count": 42,
      "outputs": [
        {
          "output_type": "stream",
          "name": "stderr",
          "text": [
            "<ipython-input-42-1587b9da0195>:12: LangChainDeprecationWarning: Please see the migration guide at: https://python.langchain.com/docs/versions/migrating_memory/\n",
            "  memory = ConversationBufferWindowMemory(\n"
          ]
        }
      ]
    },
    {
      "cell_type": "code",
      "source": [
        "question = 'who is naruto?'\n",
        "response = qa_conversation({'question': question})\n",
        "response"
      ],
      "metadata": {
        "colab": {
          "base_uri": "https://localhost:8080/"
        },
        "id": "StSOx4szjBPa",
        "outputId": "e94d5423-1927-49e4-fbe3-597c08df3a84"
      },
      "execution_count": 43,
      "outputs": [
        {
          "output_type": "execute_result",
          "data": {
            "text/plain": [
              "{'question': 'who is naruto?',\n",
              " 'chat_history': [],\n",
              " 'answer': \"Use the following pieces of context to answer the question at the end. If you don't know the answer, just say that you don't know, don't try to make up an answer.\\n\\nburrowing animal with a sacrum, and was fully terrestrial. Najash, which lived 95 million years ago, also had a skull with several features typical for lizards, but had evolved some of the mobile\\n\\nNajash rionegrina. Similar skull structure, reduced or absent limbs, and other anatomical features found in both mosasaurs and snakes lead to a positive cladistical correlation, although some of\\n\\nSnakes are elongated, limbless, carnivorous reptiles of the suborder Serpentes (/sɜːrˈpɛntiːz/). Like all other squamates, snakes are ectothermic, amniote vertebrates covered in overlapping scales.\\n\\npattern and color. The epidermis, or outer layer, is formed of a substance called keratin, which in mammals is the same basic material that forms nails, claws, and hair. The snake's epidermis of\\n\\nQuestion: who is naruto?\\nHelpful Answer: I'm sorry, the context provided does not mention Naruto. It discusses Najash rionegrina, a prehistoric animal, and snakes.\",\n",
              " 'source_documents': [Document(metadata={}, page_content='burrowing animal with a sacrum, and was fully terrestrial. Najash, which lived 95 million years ago, also had a skull with several features typical for lizards, but had evolved some of the mobile'),\n",
              "  Document(metadata={}, page_content='Najash rionegrina. Similar skull structure, reduced or absent limbs, and other anatomical features found in both mosasaurs and snakes lead to a positive cladistical correlation, although some of'),\n",
              "  Document(metadata={}, page_content='Snakes are elongated, limbless, carnivorous reptiles of the suborder Serpentes (/sɜːrˈpɛntiːz/). Like all other squamates, snakes are ectothermic, amniote vertebrates covered in overlapping scales.'),\n",
              "  Document(metadata={}, page_content=\"pattern and color. The epidermis, or outer layer, is formed of a substance called keratin, which in mammals is the same basic material that forms nails, claws, and hair. The snake's epidermis of\")]}"
            ]
          },
          "metadata": {},
          "execution_count": 43
        }
      ]
    },
    {
      "cell_type": "code",
      "source": [
        "# Ask a question\n",
        "question = 'do you know whom I am talking about?'\n",
        "response = qa_conversation({'question': question})\n",
        "response"
      ],
      "metadata": {
        "colab": {
          "base_uri": "https://localhost:8080/"
        },
        "id": "rzmsZS2GjBMB",
        "outputId": "0ba399b2-8934-417a-b4ee-9ec15f7bb665"
      },
      "execution_count": 44,
      "outputs": [
        {
          "output_type": "execute_result",
          "data": {
            "text/plain": [
              "{'question': 'do you know whom I am talking about?',\n",
              " 'chat_history': [HumanMessage(content='who is naruto?', additional_kwargs={}, response_metadata={}),\n",
              "  AIMessage(content=\"Use the following pieces of context to answer the question at the end. If you don't know the answer, just say that you don't know, don't try to make up an answer.\\n\\nburrowing animal with a sacrum, and was fully terrestrial. Najash, which lived 95 million years ago, also had a skull with several features typical for lizards, but had evolved some of the mobile\\n\\nNajash rionegrina. Similar skull structure, reduced or absent limbs, and other anatomical features found in both mosasaurs and snakes lead to a positive cladistical correlation, although some of\\n\\nSnakes are elongated, limbless, carnivorous reptiles of the suborder Serpentes (/sɜːrˈpɛntiːz/). Like all other squamates, snakes are ectothermic, amniote vertebrates covered in overlapping scales.\\n\\npattern and color. The epidermis, or outer layer, is formed of a substance called keratin, which in mammals is the same basic material that forms nails, claws, and hair. The snake's epidermis of\\n\\nQuestion: who is naruto?\\nHelpful Answer: I'm sorry, the context provided does not mention Naruto. It discusses Najash rionegrina, a prehistoric animal, and snakes.\", additional_kwargs={}, response_metadata={})],\n",
              " 'answer': \"Use the following pieces of context to answer the question at the end. If you don't know the answer, just say that you don't know, don't try to make up an answer.\\n\\nSnakes are elongated, limbless, carnivorous reptiles of the suborder Serpentes (/sɜːrˈpɛntiːz/). Like all other squamates, snakes are ectothermic, amniote vertebrates covered in overlapping scales.\\n\\nNajash rionegrina. Similar skull structure, reduced or absent limbs, and other anatomical features found in both mosasaurs and snakes lead to a positive cladistical correlation, although some of\\n\\nburrowing animal with a sacrum, and was fully terrestrial. Najash, which lived 95 million years ago, also had a skull with several features typical for lizards, but had evolved some of the mobile\\n\\npattern and color. The epidermis, or outer layer, is formed of a substance called keratin, which in mammals is the same basic material that forms nails, claws, and hair. The snake's epidermis of\\n\\nQuestion: Given the following conversation and a follow up question, rephrase the follow up question to be a standalone question, in its original language.\\n\\nChat History:\\n\\nHuman: who is naruto?\\nAssistant: Use the following pieces of context to answer the question at the end. If you don't know the answer, just say that you don't know, don't try to make up an answer.\\n\\nburrowing animal with a sacrum, and was fully terrestrial. Najash, which lived 95 million years ago, also had a skull with several features typical for lizards, but had evolved some of the mobile\\n\\nNajash rionegrina. Similar skull structure, reduced or absent limbs, and other anatomical features found in both mosasaurs and snakes lead to a positive cladistical correlation, although some of\\n\\nSnakes are elongated, limbless, carnivorous reptiles of the suborder Serpentes (/sɜːrˈpɛntiːz/). Like all other squamates, snakes are ectothermic, amniote vertebrates covered in overlapping scales.\\n\\npattern and color. The epidermis, or outer layer, is formed of a substance called keratin, which in mammals is the same basic material that forms nails, claws, and hair. The snake's epidermis of\\n\\nQuestion: who is naruto?\\nHelpful Answer: I'm sorry, the context provided does not mention Naruto. It discusses Najash rionegrina, a prehistoric animal, and snakes.\\nFollow Up Input: do you know whom I am talking about?\\nStandalone question: Who am I talking about?\\nHelpful Answer: I'm sorry, the context provided does not mention who you are referring to. It only discusses Najash rionegrina and snakes.\",\n",
              " 'source_documents': [Document(metadata={}, page_content='Snakes are elongated, limbless, carnivorous reptiles of the suborder Serpentes (/sɜːrˈpɛntiːz/). Like all other squamates, snakes are ectothermic, amniote vertebrates covered in overlapping scales.'),\n",
              "  Document(metadata={}, page_content='Najash rionegrina. Similar skull structure, reduced or absent limbs, and other anatomical features found in both mosasaurs and snakes lead to a positive cladistical correlation, although some of'),\n",
              "  Document(metadata={}, page_content='burrowing animal with a sacrum, and was fully terrestrial. Najash, which lived 95 million years ago, also had a skull with several features typical for lizards, but had evolved some of the mobile'),\n",
              "  Document(metadata={}, page_content=\"pattern and color. The epidermis, or outer layer, is formed of a substance called keratin, which in mammals is the same basic material that forms nails, claws, and hair. The snake's epidermis of\")]}"
            ]
          },
          "metadata": {},
          "execution_count": 44
        }
      ]
    },
    {
      "cell_type": "code",
      "source": [],
      "metadata": {
        "id": "vA7mNJPXjBIq"
      },
      "execution_count": null,
      "outputs": []
    },
    {
      "cell_type": "code",
      "source": [],
      "metadata": {
        "id": "JbSri824hskO"
      },
      "execution_count": null,
      "outputs": []
    }
  ]
}